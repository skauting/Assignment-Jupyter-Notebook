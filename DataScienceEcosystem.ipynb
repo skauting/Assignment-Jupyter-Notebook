{
 "cells": [
  {
   "cell_type": "markdown",
   "id": "87b66036-30bc-4a73-9cf8-8c14d4dd361d",
   "metadata": {},
   "source": [
    "# Data Science Tools and Ecosystem"
   ]
  },
  {
   "cell_type": "markdown",
   "id": "dc08728a-d79a-4266-a674-cb43faffbc65",
   "metadata": {},
   "source": [
    "In this notebook, Data Science Tools and Ecosystem are summarized."
   ]
  },
  {
   "cell_type": "markdown",
   "id": "335500bf-eab3-4e22-894e-36b36e8eadb4",
   "metadata": {},
   "source": [
    "**Objectives:**\n",
    "* List popular languages for Data Science\n",
    "* List common libraries used in Data Science\n",
    "* List examples of Data Science tools\n",
    "* Show some examples of arithmetic expressions in Python"
   ]
  },
  {
   "cell_type": "markdown",
   "id": "83119f6d-38c7-4449-89f7-8d62d2fe5b9c",
   "metadata": {},
   "source": [
    "Some of the popular languages that Data Scientists use are:\n",
    "1. Python\n",
    "2. R\n",
    "3. Scala\n",
    "4. Julia\n",
    "5. SQL"
   ]
  },
  {
   "cell_type": "markdown",
   "id": "86f3d743-a6a3-460f-87ee-30f8b68d3ac8",
   "metadata": {},
   "source": [
    "Some of the commonly used libraries used by Data Scientists include:\n",
    "1. NumPy\n",
    "2. Pandas\n",
    "3. Scikit-learn\n",
    "4. Matplotlib\n",
    "5. Seaborn"
   ]
  },
  {
   "cell_type": "markdown",
   "id": "1346d433-dbcd-4ec4-9cc8-0d2579ca70b3",
   "metadata": {},
   "source": [
    "|Data Science Tools|\n",
    "|------------------|\n",
    "|Python|\n",
    "|Jupyter Notebooks|\n",
    "|RStudio|"
   ]
  },
  {
   "cell_type": "markdown",
   "id": "f91448f9-5587-44d1-aa11-969ad805123b",
   "metadata": {},
   "source": [
    "### Below are a few examples of evaluating arithmetic expressions in Python"
   ]
  },
  {
   "cell_type": "code",
   "execution_count": 7,
   "id": "756cd87e-2ac0-452e-b4a1-c11bdeb51be5",
   "metadata": {
    "tags": []
   },
   "outputs": [
    {
     "data": {
      "text/plain": [
       "17"
      ]
     },
     "execution_count": 7,
     "metadata": {},
     "output_type": "execute_result"
    }
   ],
   "source": [
    "# This a simple arithmetic expression to mutiply then add integers\n",
    "\n",
    "(3*4)+5"
   ]
  },
  {
   "cell_type": "code",
   "execution_count": 8,
   "id": "0701c6a9-1066-4998-81e1-ed551229f91d",
   "metadata": {
    "tags": []
   },
   "outputs": [
    {
     "data": {
      "text/plain": [
       "3.3333333333333335"
      ]
     },
     "execution_count": 8,
     "metadata": {},
     "output_type": "execute_result"
    }
   ],
   "source": [
    "# This will convert 200 minutes to hours by diving by 60\n",
    "\n",
    "200/60"
   ]
  },
  {
   "cell_type": "markdown",
   "id": "7a4b8ec4-6f85-4e5e-bde6-7363614681e5",
   "metadata": {},
   "source": [
    "## Author\n",
    "Jan Nemec"
   ]
  }
 ],
 "metadata": {
  "kernelspec": {
   "display_name": "Python 3 (ipykernel)",
   "language": "python",
   "name": "python3"
  },
  "language_info": {
   "codemirror_mode": {
    "name": "ipython",
    "version": 3
   },
   "file_extension": ".py",
   "mimetype": "text/x-python",
   "name": "python",
   "nbconvert_exporter": "python",
   "pygments_lexer": "ipython3",
   "version": "3.11.3"
  }
 },
 "nbformat": 4,
 "nbformat_minor": 5
}
